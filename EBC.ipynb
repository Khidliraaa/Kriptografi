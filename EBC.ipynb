{
  "nbformat": 4,
  "nbformat_minor": 0,
  "metadata": {
    "colab": {
      "provenance": []
    },
    "kernelspec": {
      "name": "python3",
      "display_name": "Python 3"
    },
    "language_info": {
      "name": "python"
    }
  },
  "cells": [
    {
      "cell_type": "code",
      "execution_count": null,
      "metadata": {
        "colab": {
          "base_uri": "https://localhost:8080/"
        },
        "id": "CYyqxyLmZPSQ",
        "outputId": "e6e166fb-96ea-4310-c5da-14c283b0683a"
      },
      "outputs": [
        {
          "output_type": "stream",
          "name": "stdout",
          "text": [
            "Plaintext:   UDINUS merupakan kampus yang berdiri kokoh di tengah kota tepatnya berada di dekat Tugu Muda.\n",
            "Encrypted:   b\"&!*<0'K\\x08\\x1cCGCU^W\\x1dE\\x08\\x13\\x08\\x04\\x1e\\x16YHS]S\\x15T\\x16\\x17\\x07\\x1b\\x17\\x1dK\\x0e\\x16Z][\\x14Q_S\\x11\\x06\\x1c\\x02\\x15\\x03E\\x12^FR\\x14AS\\x03\\x04\\x17\\x1c\\x1c\\x15K\\x07\\x1cCSWU\\x15R\\x1aE\\x07\\x17\\x0e\\x15\\x1fE-DUF\\x14xC\\x17\\x04M~ixgiu=>?89:\"\n",
            "Decrypted:   UDINUS merupakan kampus yang berdiri kokoh di tengah kota tepatnya berada di dekat Tugu Muda.\n"
          ]
        }
      ],
      "source": [
        "def pad(text, block_size):\n",
        "    padding_size = block_size - (len(text) % block_size)\n",
        "    padding = bytes([padding_size] * padding_size)\n",
        "    return text + padding\n",
        "\n",
        "def unpad(text):\n",
        "    padding_size = text[-1]\n",
        "    return text[:-padding_size]\n",
        "\n",
        "def encrypt_ecb(plaintext, key):\n",
        "    block_size = len(key)\n",
        "\n",
        "    # Padding plaintext\n",
        "    padded_plaintext = pad(plaintext.encode(), block_size)\n",
        "\n",
        "    # Initializing encrypted text\n",
        "    encrypted_text = b\"\"\n",
        "\n",
        "    # Encrypting each block\n",
        "    for i in range(0, len(padded_plaintext), block_size):\n",
        "        block = padded_plaintext[i:i + block_size]\n",
        "        encrypted_block = bytes([b1 ^ b2 for b1, b2 in zip(block, key)])\n",
        "        encrypted_text += encrypted_block\n",
        "\n",
        "    return encrypted_text\n",
        "\n",
        "def decrypt_ecb(ciphertext, key):\n",
        "    block_size = len(key)\n",
        "\n",
        "    # Initializing decrypted text\n",
        "    decrypted_text = b\"\"\n",
        "\n",
        "    # Decrypting each block\n",
        "    for i in range(0, len(ciphertext), block_size):\n",
        "        block = ciphertext[i:i + block_size]\n",
        "        decrypted_block = bytes([b1 ^ b2 for b1, b2 in zip(block, key)])\n",
        "        decrypted_text += decrypted_block\n",
        "\n",
        "    # Unpadding decrypted text\n",
        "    unpadded_text = unpad(decrypted_text)\n",
        "\n",
        "    return unpadded_text.decode('utf-8')\n",
        "\n",
        "def main():\n",
        "    key = b\"secretkey123456\"\n",
        "    plaintext = \"UDINUS merupakan kampus yang berdiri kokoh di tengah kota tepatnya berada di dekat Tugu Muda.\"\n",
        "\n",
        "    encrypted_text = encrypt_ecb(plaintext, key)\n",
        "    decrypted_text = decrypt_ecb(encrypted_text, key)\n",
        "\n",
        "    print(\"Plaintext:  \", plaintext)\n",
        "    print(\"Encrypted:  \", encrypted_text)\n",
        "    print(\"Decrypted:  \", decrypted_text)\n",
        "\n",
        "if __name__ == \"__main__\":\n",
        "    main()\n"
      ]
    }
  ]
}