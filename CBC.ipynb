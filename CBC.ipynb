{
  "nbformat": 4,
  "nbformat_minor": 0,
  "metadata": {
    "colab": {
      "provenance": []
    },
    "kernelspec": {
      "name": "python3",
      "display_name": "Python 3"
    },
    "language_info": {
      "name": "python"
    }
  },
  "cells": [
    {
      "cell_type": "code",
      "execution_count": 5,
      "metadata": {
        "colab": {
          "base_uri": "https://localhost:8080/"
        },
        "id": "LruBVWDHjgjk",
        "outputId": "ca4d2b50-ad1c-4468-b20c-67a28e385d17"
      },
      "outputs": [
        {
          "output_type": "stream",
          "name": "stdout",
          "text": [
            "Plaintext:   Ini adalah contoh pesan yang akan dienkripsi menggunakan mode CBC.\n",
            "Encrypted:   b'*$\\xf7\\xd0\\x1e},\\x84\\x1d8\\x1f\\x19\\x03HNo\\xeeh\\xc5q\\x0c\\xf7G\\xf9QLL\\x14h\\x1f\\x19=,$\\xe3\\xdc\\x08r)\\xd6\\r)\\x02\\x17\\x03D@`\\xe7/\\xd4v\\x08\\xf2M\\xe5\\x18QP\\x19-R?\\x11\\x08m\\x98\\xbcg\\x17F\\xb6#Jc}hj\\r,'\n"
          ]
        }
      ],
      "source": [
        "import os\n",
        "\n",
        "def pad(text):\n",
        "    block_size = 16  # AES block size is 16 bytes\n",
        "    padding_size = block_size - len(text) % block_size\n",
        "    padding = bytes([padding_size] * padding_size)\n",
        "    return text + padding\n",
        "\n",
        "def xor_bytes(b1, b2):\n",
        "    return bytes([x ^ y for x, y in zip(b1, b2)])\n",
        "\n",
        "def encrypt_cbc(plaintext, key, iv):\n",
        "    plaintext = pad(plaintext.encode())\n",
        "    ciphertext = b\"\"\n",
        "    previous_block = iv\n",
        "\n",
        "    for i in range(0, len(plaintext), 16):\n",
        "        block = plaintext[i:i+16]\n",
        "        xor_result = xor_bytes(block, previous_block)\n",
        "        encrypted_block = xor_bytes(xor_result, key)\n",
        "        ciphertext += encrypted_block\n",
        "        previous_block = encrypted_block\n",
        "\n",
        "    return ciphertext\n",
        "\n",
        "def main():\n",
        "    key = os.urandom(16)  # 128-bit key for AES\n",
        "    iv = os.urandom(16)   # Initialization Vector\n",
        "\n",
        "    plaintext = \"Ini adalah contoh pesan yang akan dienkripsi menggunakan mode CBC.\"\n",
        "\n",
        "    encrypted_text = encrypt_cbc(plaintext, key, iv)\n",
        "\n",
        "    print(\"Plaintext:  \", plaintext)\n",
        "    print(\"Encrypted:  \", encrypted_text)\n",
        "\n",
        "if __name__ == \"__main__\":\n",
        "    main()\n"
      ]
    }
  ]
}