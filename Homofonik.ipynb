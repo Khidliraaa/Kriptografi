{
  "nbformat": 4,
  "nbformat_minor": 0,
  "metadata": {
    "colab": {
      "provenance": []
    },
    "kernelspec": {
      "name": "python3",
      "display_name": "Python 3"
    },
    "language_info": {
      "name": "python"
    }
  },
  "cells": [
    {
      "cell_type": "code",
      "execution_count": null,
      "metadata": {
        "colab": {
          "base_uri": "https://localhost:8080/"
        },
        "id": "apJeGxrsVOz7",
        "outputId": "2b15d88b-601a-4e77-b2ec-239464f2b838"
      },
      "outputs": [
        {
          "output_type": "stream",
          "name": "stdout",
          "text": [
            "Plaintext:   UDINUS adalah salah satu kampus swasta dengan akreditasi baik di Jawa Tengah.\n",
            "Encrypted:   FL5DFU QLQDQE UQDQE UQOF YQJHFU U1QUOQ L5DTQD QYD5L5OQU5 YQ5Y L5 EQ1Q O5DTQE.\n",
            "Decrypted:   uoiruv aoaraj varaj vatu zampuv vwavta oirgar azrioitavi zaiz oi jawa tirgaj.\n"
          ]
        }
      ],
      "source": [
        "import random\n",
        "import string\n",
        "\n",
        "def generate_key():\n",
        "    alphabet = string.ascii_lowercase\n",
        "    homophones = [random.choice(string.ascii_uppercase + string.digits) for _ in range(len(alphabet))]\n",
        "    key = dict(zip(alphabet, homophones))\n",
        "    return key\n",
        "\n",
        "def encrypt(message, key):\n",
        "    encrypted_message = \"\"\n",
        "    for char in message:\n",
        "        if char.lower() in key:\n",
        "            encrypted_message += key[char.lower()]\n",
        "        else:\n",
        "            encrypted_message += char\n",
        "    return encrypted_message\n",
        "\n",
        "def decrypt(encrypted_message, key):\n",
        "    reverse_key = {v: k for k, v in key.items()}\n",
        "    decrypted_message = \"\"\n",
        "    for char in encrypted_message:\n",
        "        if char.upper() in reverse_key:\n",
        "            decrypted_message += reverse_key[char.upper()]\n",
        "        else:\n",
        "            decrypted_message += char\n",
        "    return decrypted_message\n",
        "\n",
        "def main():\n",
        "    plaintext = \"UDINUS adalah salah satu kampus swasta dengan akreditasi baik di Jawa Tengah.\"\n",
        "\n",
        "    key = generate_key()\n",
        "    encrypted_text = encrypt(plaintext, key)\n",
        "    decrypted_text = decrypt(encrypted_text, key)\n",
        "\n",
        "    print(\"Plaintext:  \", plaintext)\n",
        "    print(\"Encrypted:  \", encrypted_text)\n",
        "    print(\"Decrypted:  \", decrypted_text)\n",
        "\n",
        "if __name__ == \"__main__\":\n",
        "    main()\n"
      ]
    }
  ]
}